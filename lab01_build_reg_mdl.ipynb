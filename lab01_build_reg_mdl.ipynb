{
  "cells": [
    {
      "cell_type": "markdown",
      "metadata": {
        "id": "vQaDF_V_dG8K"
      },
      "source": [
        "# Loading Tensorflow and checking the version"
      ]
    },
    {
      "cell_type": "code",
      "execution_count": 1,
      "metadata": {
        "id": "GR9pccv8cRPP"
      },
      "outputs": [],
      "source": [
        "import tensorflow as tf\n"
      ]
    },
    {
      "cell_type": "code",
      "execution_count": 2,
      "metadata": {
        "colab": {
          "base_uri": "https://localhost:8080/"
        },
        "id": "O0xE7ILdcoG1",
        "outputId": "f5fbd3a5-282b-4eec-823e-90baac3270ec"
      },
      "outputs": [
        {
          "name": "stdout",
          "output_type": "stream",
          "text": [
            "2.7.0\n"
          ]
        }
      ],
      "source": [
        "print(tf.__version__)"
      ]
    },
    {
      "cell_type": "markdown",
      "metadata": {
        "id": "XjSdqNRrdT6z"
      },
      "source": [
        "- If not installed, uncomment the following cell. \n",
        "- **PS:** using pip not conda as everything on colab is prepared for you (cuda)."
      ]
    },
    {
      "cell_type": "code",
      "execution_count": 3,
      "metadata": {
        "id": "6kZDJFPedPTo"
      },
      "outputs": [],
      "source": [
        "#!pip install tensorflow==2.5.0 "
      ]
    },
    {
      "cell_type": "markdown",
      "metadata": {
        "id": "USWlnYWndBBD"
      },
      "source": [
        "# Data preparation"
      ]
    },
    {
      "cell_type": "code",
      "execution_count": 4,
      "metadata": {
        "id": "3MpvqxuddobJ"
      },
      "outputs": [],
      "source": [
        "import numpy as np\n"
      ]
    },
    {
      "cell_type": "markdown",
      "metadata": {
        "id": "ZB0rznw5dyZZ"
      },
      "source": [
        "1- Prepare the training examples\n"
      ]
    },
    {
      "cell_type": "code",
      "execution_count": 5,
      "metadata": {
        "id": "gBO11Z7HdFpx"
      },
      "outputs": [],
      "source": [
        "x = np.array([1.0, 2.0, 3.0, 4.0, 5.0, 6.0], dtype=float)\n"
      ]
    },
    {
      "cell_type": "markdown",
      "metadata": {
        "id": "2f-hJ1b3d1nA"
      },
      "source": [
        "2- Prepare the training outputs"
      ]
    },
    {
      "cell_type": "code",
      "execution_count": 6,
      "metadata": {
        "id": "TpKMKWVWdtSp"
      },
      "outputs": [],
      "source": [
        "y = 2 * x + 1"
      ]
    },
    {
      "cell_type": "markdown",
      "metadata": {
        "id": "H18kkNrRd-P_"
      },
      "source": [
        "# Defining the model using **Sequential** API"
      ]
    },
    {
      "cell_type": "code",
      "execution_count": 7,
      "metadata": {
        "id": "TQbUo5TreFx2"
      },
      "outputs": [],
      "source": [
        "from tensorflow.keras import Sequential\n",
        "from tensorflow.keras.layers import Dense"
      ]
    },
    {
      "cell_type": "code",
      "execution_count": 8,
      "metadata": {
        "id": "Kqp2mOvjeEGM"
      },
      "outputs": [
        {
          "name": "stderr",
          "output_type": "stream",
          "text": [
            "2022-01-25 15:23:19.367624: I tensorflow/stream_executor/cuda/cuda_gpu_executor.cc:939] successful NUMA node read from SysFS had negative value (-1), but there must be at least one NUMA node, so returning NUMA node zero\n",
            "2022-01-25 15:23:20.233420: I tensorflow/stream_executor/cuda/cuda_gpu_executor.cc:939] successful NUMA node read from SysFS had negative value (-1), but there must be at least one NUMA node, so returning NUMA node zero\n",
            "2022-01-25 15:23:20.233892: I tensorflow/stream_executor/cuda/cuda_gpu_executor.cc:939] successful NUMA node read from SysFS had negative value (-1), but there must be at least one NUMA node, so returning NUMA node zero\n",
            "2022-01-25 15:23:20.249862: I tensorflow/core/platform/cpu_feature_guard.cc:151] This TensorFlow binary is optimized with oneAPI Deep Neural Network Library (oneDNN) to use the following CPU instructions in performance-critical operations:  AVX2 FMA\n",
            "To enable them in other operations, rebuild TensorFlow with the appropriate compiler flags.\n",
            "2022-01-25 15:23:20.251117: I tensorflow/stream_executor/cuda/cuda_gpu_executor.cc:939] successful NUMA node read from SysFS had negative value (-1), but there must be at least one NUMA node, so returning NUMA node zero\n",
            "2022-01-25 15:23:20.251628: I tensorflow/stream_executor/cuda/cuda_gpu_executor.cc:939] successful NUMA node read from SysFS had negative value (-1), but there must be at least one NUMA node, so returning NUMA node zero\n",
            "2022-01-25 15:23:20.252030: I tensorflow/stream_executor/cuda/cuda_gpu_executor.cc:939] successful NUMA node read from SysFS had negative value (-1), but there must be at least one NUMA node, so returning NUMA node zero\n",
            "2022-01-25 15:23:31.115794: I tensorflow/stream_executor/cuda/cuda_gpu_executor.cc:939] successful NUMA node read from SysFS had negative value (-1), but there must be at least one NUMA node, so returning NUMA node zero\n",
            "2022-01-25 15:23:31.116210: I tensorflow/stream_executor/cuda/cuda_gpu_executor.cc:939] successful NUMA node read from SysFS had negative value (-1), but there must be at least one NUMA node, so returning NUMA node zero\n",
            "2022-01-25 15:23:31.116555: I tensorflow/stream_executor/cuda/cuda_gpu_executor.cc:939] successful NUMA node read from SysFS had negative value (-1), but there must be at least one NUMA node, so returning NUMA node zero\n",
            "2022-01-25 15:23:31.116873: I tensorflow/core/common_runtime/gpu/gpu_device.cc:1525] Created device /job:localhost/replica:0/task:0/device:GPU:0 with 1034 MB memory:  -> device: 0, name: Quadro M1000M, pci bus id: 0000:01:00.0, compute capability: 5.0\n"
          ]
        }
      ],
      "source": [
        "model = Sequential([Dense(units=1, input_shape=[1])])\n"
      ]
    },
    {
      "cell_type": "markdown",
      "metadata": {
        "id": "z-jmRkuoe7a7"
      },
      "source": [
        "Define the **optimizer** and the **loss**"
      ]
    },
    {
      "cell_type": "code",
      "execution_count": 9,
      "metadata": {
        "id": "OGwlZrCte5ri"
      },
      "outputs": [],
      "source": [
        "model.compile(optimizer='sgd', loss='mean_squared_error')"
      ]
    },
    {
      "cell_type": "markdown",
      "metadata": {
        "id": "xT-YdjxufJvp"
      },
      "source": [
        "Train the model"
      ]
    },
    {
      "cell_type": "code",
      "execution_count": 10,
      "metadata": {
        "colab": {
          "base_uri": "https://localhost:8080/"
        },
        "id": "SovsXhqAfLGb",
        "outputId": "e648d891-45c2-4fd6-f94c-fda05429d896"
      },
      "outputs": [
        {
          "name": "stdout",
          "output_type": "stream",
          "text": [
            "Epoch 1/100\n",
            "1/1 [==============================] - 23s 23s/step - loss: 16.6481\n",
            "Epoch 2/100\n",
            "1/1 [==============================] - 0s 13ms/step - loss: 7.7655\n",
            "Epoch 3/100\n",
            "1/1 [==============================] - 0s 6ms/step - loss: 3.6539\n",
            "Epoch 4/100\n",
            "1/1 [==============================] - 0s 5ms/step - loss: 1.7505\n",
            "Epoch 5/100\n",
            "1/1 [==============================] - 0s 3ms/step - loss: 0.8691\n",
            "Epoch 6/100\n",
            "1/1 [==============================] - 0s 4ms/step - loss: 0.4608\n",
            "Epoch 7/100\n",
            "1/1 [==============================] - 0s 5ms/step - loss: 0.2713\n",
            "Epoch 8/100\n",
            "1/1 [==============================] - 0s 3ms/step - loss: 0.1832\n",
            "Epoch 9/100\n",
            "1/1 [==============================] - 0s 4ms/step - loss: 0.1420\n",
            "Epoch 10/100\n",
            "1/1 [==============================] - 0s 3ms/step - loss: 0.1226\n",
            "Epoch 11/100\n",
            "1/1 [==============================] - 0s 3ms/step - loss: 0.1131\n",
            "Epoch 12/100\n",
            "1/1 [==============================] - 0s 4ms/step - loss: 0.1084\n",
            "Epoch 13/100\n",
            "1/1 [==============================] - 0s 3ms/step - loss: 0.1057\n",
            "Epoch 14/100\n",
            "1/1 [==============================] - 0s 3ms/step - loss: 0.1041\n",
            "Epoch 15/100\n",
            "1/1 [==============================] - 0s 3ms/step - loss: 0.1030\n",
            "Epoch 16/100\n",
            "1/1 [==============================] - 0s 3ms/step - loss: 0.1020\n",
            "Epoch 17/100\n",
            "1/1 [==============================] - 0s 3ms/step - loss: 0.1012\n",
            "Epoch 18/100\n",
            "1/1 [==============================] - 0s 3ms/step - loss: 0.1004\n",
            "Epoch 19/100\n",
            "1/1 [==============================] - 0s 3ms/step - loss: 0.0997\n",
            "Epoch 20/100\n",
            "1/1 [==============================] - 0s 3ms/step - loss: 0.0990\n",
            "Epoch 21/100\n",
            "1/1 [==============================] - 0s 4ms/step - loss: 0.0982\n",
            "Epoch 22/100\n",
            "1/1 [==============================] - 0s 5ms/step - loss: 0.0975\n",
            "Epoch 23/100\n",
            "1/1 [==============================] - 0s 3ms/step - loss: 0.0968\n",
            "Epoch 24/100\n",
            "1/1 [==============================] - 0s 4ms/step - loss: 0.0961\n",
            "Epoch 25/100\n",
            "1/1 [==============================] - 0s 3ms/step - loss: 0.0954\n",
            "Epoch 26/100\n",
            "1/1 [==============================] - 0s 3ms/step - loss: 0.0947\n",
            "Epoch 27/100\n",
            "1/1 [==============================] - 0s 3ms/step - loss: 0.0940\n",
            "Epoch 28/100\n",
            "1/1 [==============================] - 0s 3ms/step - loss: 0.0933\n",
            "Epoch 29/100\n",
            "1/1 [==============================] - 0s 3ms/step - loss: 0.0926\n",
            "Epoch 30/100\n",
            "1/1 [==============================] - 0s 3ms/step - loss: 0.0920\n",
            "Epoch 31/100\n",
            "1/1 [==============================] - 0s 4ms/step - loss: 0.0913\n",
            "Epoch 32/100\n",
            "1/1 [==============================] - 0s 6ms/step - loss: 0.0906\n",
            "Epoch 33/100\n",
            "1/1 [==============================] - 0s 5ms/step - loss: 0.0900\n",
            "Epoch 34/100\n",
            "1/1 [==============================] - 0s 3ms/step - loss: 0.0893\n",
            "Epoch 35/100\n",
            "1/1 [==============================] - 0s 5ms/step - loss: 0.0887\n",
            "Epoch 36/100\n",
            "1/1 [==============================] - 0s 3ms/step - loss: 0.0880\n",
            "Epoch 37/100\n",
            "1/1 [==============================] - 0s 3ms/step - loss: 0.0874\n",
            "Epoch 38/100\n",
            "1/1 [==============================] - 0s 4ms/step - loss: 0.0867\n",
            "Epoch 39/100\n",
            "1/1 [==============================] - 0s 5ms/step - loss: 0.0861\n",
            "Epoch 40/100\n",
            "1/1 [==============================] - 0s 3ms/step - loss: 0.0855\n",
            "Epoch 41/100\n",
            "1/1 [==============================] - 0s 4ms/step - loss: 0.0849\n",
            "Epoch 42/100\n",
            "1/1 [==============================] - 0s 4ms/step - loss: 0.0842\n",
            "Epoch 43/100\n",
            "1/1 [==============================] - 0s 5ms/step - loss: 0.0836\n",
            "Epoch 44/100\n",
            "1/1 [==============================] - 0s 7ms/step - loss: 0.0830\n",
            "Epoch 45/100\n",
            "1/1 [==============================] - 0s 3ms/step - loss: 0.0824\n",
            "Epoch 46/100\n",
            "1/1 [==============================] - 0s 5ms/step - loss: 0.0818\n",
            "Epoch 47/100\n",
            "1/1 [==============================] - 0s 3ms/step - loss: 0.0812\n",
            "Epoch 48/100\n",
            "1/1 [==============================] - 0s 3ms/step - loss: 0.0806\n",
            "Epoch 49/100\n",
            "1/1 [==============================] - 0s 4ms/step - loss: 0.0800\n",
            "Epoch 50/100\n",
            "1/1 [==============================] - 0s 3ms/step - loss: 0.0795\n",
            "Epoch 51/100\n",
            "1/1 [==============================] - 0s 4ms/step - loss: 0.0789\n",
            "Epoch 52/100\n",
            "1/1 [==============================] - 0s 5ms/step - loss: 0.0783\n",
            "Epoch 53/100\n",
            "1/1 [==============================] - 0s 5ms/step - loss: 0.0777\n",
            "Epoch 54/100\n",
            "1/1 [==============================] - 0s 4ms/step - loss: 0.0772\n",
            "Epoch 55/100\n",
            "1/1 [==============================] - 0s 4ms/step - loss: 0.0766\n",
            "Epoch 56/100\n",
            "1/1 [==============================] - 0s 4ms/step - loss: 0.0760\n",
            "Epoch 57/100\n",
            "1/1 [==============================] - 0s 4ms/step - loss: 0.0755\n",
            "Epoch 58/100\n",
            "1/1 [==============================] - 0s 5ms/step - loss: 0.0749\n",
            "Epoch 59/100\n",
            "1/1 [==============================] - 0s 5ms/step - loss: 0.0744\n",
            "Epoch 60/100\n",
            "1/1 [==============================] - 0s 4ms/step - loss: 0.0739\n",
            "Epoch 61/100\n",
            "1/1 [==============================] - 0s 4ms/step - loss: 0.0733\n",
            "Epoch 62/100\n",
            "1/1 [==============================] - 0s 4ms/step - loss: 0.0728\n",
            "Epoch 63/100\n",
            "1/1 [==============================] - 0s 4ms/step - loss: 0.0723\n",
            "Epoch 64/100\n",
            "1/1 [==============================] - 0s 5ms/step - loss: 0.0717\n",
            "Epoch 65/100\n",
            "1/1 [==============================] - 0s 5ms/step - loss: 0.0712\n",
            "Epoch 66/100\n",
            "1/1 [==============================] - 0s 5ms/step - loss: 0.0707\n",
            "Epoch 67/100\n",
            "1/1 [==============================] - 0s 10ms/step - loss: 0.0702\n",
            "Epoch 68/100\n",
            "1/1 [==============================] - 0s 6ms/step - loss: 0.0697\n",
            "Epoch 69/100\n",
            "1/1 [==============================] - 0s 5ms/step - loss: 0.0692\n",
            "Epoch 70/100\n",
            "1/1 [==============================] - 0s 7ms/step - loss: 0.0686\n",
            "Epoch 71/100\n",
            "1/1 [==============================] - 0s 5ms/step - loss: 0.0681\n",
            "Epoch 72/100\n",
            "1/1 [==============================] - 0s 5ms/step - loss: 0.0676\n",
            "Epoch 73/100\n",
            "1/1 [==============================] - 0s 5ms/step - loss: 0.0672\n",
            "Epoch 74/100\n",
            "1/1 [==============================] - 0s 7ms/step - loss: 0.0667\n",
            "Epoch 75/100\n",
            "1/1 [==============================] - 0s 4ms/step - loss: 0.0662\n",
            "Epoch 76/100\n",
            "1/1 [==============================] - 0s 3ms/step - loss: 0.0657\n",
            "Epoch 77/100\n",
            "1/1 [==============================] - 0s 6ms/step - loss: 0.0652\n",
            "Epoch 78/100\n",
            "1/1 [==============================] - 0s 3ms/step - loss: 0.0647\n",
            "Epoch 79/100\n",
            "1/1 [==============================] - 0s 4ms/step - loss: 0.0643\n",
            "Epoch 80/100\n",
            "1/1 [==============================] - 0s 4ms/step - loss: 0.0638\n",
            "Epoch 81/100\n",
            "1/1 [==============================] - 0s 5ms/step - loss: 0.0633\n",
            "Epoch 82/100\n",
            "1/1 [==============================] - 0s 4ms/step - loss: 0.0629\n",
            "Epoch 83/100\n",
            "1/1 [==============================] - 0s 4ms/step - loss: 0.0624\n",
            "Epoch 84/100\n",
            "1/1 [==============================] - 0s 4ms/step - loss: 0.0620\n",
            "Epoch 85/100\n",
            "1/1 [==============================] - 0s 5ms/step - loss: 0.0615\n",
            "Epoch 86/100\n",
            "1/1 [==============================] - 0s 4ms/step - loss: 0.0611\n",
            "Epoch 87/100\n",
            "1/1 [==============================] - 0s 4ms/step - loss: 0.0606\n",
            "Epoch 88/100\n",
            "1/1 [==============================] - 0s 4ms/step - loss: 0.0602\n",
            "Epoch 89/100\n",
            "1/1 [==============================] - 0s 3ms/step - loss: 0.0597\n",
            "Epoch 90/100\n",
            "1/1 [==============================] - 0s 4ms/step - loss: 0.0593\n",
            "Epoch 91/100\n",
            "1/1 [==============================] - 0s 4ms/step - loss: 0.0589\n",
            "Epoch 92/100\n",
            "1/1 [==============================] - 0s 4ms/step - loss: 0.0584\n",
            "Epoch 93/100\n",
            "1/1 [==============================] - 0s 4ms/step - loss: 0.0580\n",
            "Epoch 94/100\n",
            "1/1 [==============================] - 0s 6ms/step - loss: 0.0576\n",
            "Epoch 95/100\n",
            "1/1 [==============================] - 0s 9ms/step - loss: 0.0572\n",
            "Epoch 96/100\n",
            "1/1 [==============================] - 0s 4ms/step - loss: 0.0568\n",
            "Epoch 97/100\n",
            "1/1 [==============================] - 0s 3ms/step - loss: 0.0563\n",
            "Epoch 98/100\n",
            "1/1 [==============================] - 0s 3ms/step - loss: 0.0559\n",
            "Epoch 99/100\n",
            "1/1 [==============================] - 0s 4ms/step - loss: 0.0555\n",
            "Epoch 100/100\n",
            "1/1 [==============================] - 0s 5ms/step - loss: 0.0551\n"
          ]
        },
        {
          "data": {
            "text/plain": [
              "<keras.callbacks.History at 0x7fe71c360c70>"
            ]
          },
          "execution_count": 10,
          "metadata": {},
          "output_type": "execute_result"
        }
      ],
      "source": [
        "model.fit(x, y, epochs=100)"
      ]
    },
    {
      "cell_type": "markdown",
      "metadata": {
        "id": "TOm-flJlfZbh"
      },
      "source": [
        "# Using the model to predict a value"
      ]
    },
    {
      "cell_type": "code",
      "execution_count": 11,
      "metadata": {
        "colab": {
          "base_uri": "https://localhost:8080/"
        },
        "id": "clZmPR_rfdDc",
        "outputId": "a3b55422-3fd2-4f2d-890d-d608c095fd0f"
      },
      "outputs": [
        {
          "name": "stdout",
          "output_type": "stream",
          "text": [
            "[42.95797]\n"
          ]
        }
      ],
      "source": [
        "new_val = [20]\n",
        "print(model.predict(new_val)[0])"
      ]
    }
  ],
  "metadata": {
    "colab": {
      "name": "lab01_build_reg_mdl.ipynb",
      "provenance": []
    },
    "kernelspec": {
      "display_name": "Python 3",
      "name": "python3"
    },
    "language_info": {
      "codemirror_mode": {
        "name": "ipython",
        "version": 3
      },
      "file_extension": ".py",
      "mimetype": "text/x-python",
      "name": "python",
      "nbconvert_exporter": "python",
      "pygments_lexer": "ipython3",
      "version": "3.9.10"
    }
  },
  "nbformat": 4,
  "nbformat_minor": 0
}
